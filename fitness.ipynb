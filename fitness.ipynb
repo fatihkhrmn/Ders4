{
  "nbformat": 4,
  "nbformat_minor": 0,
  "metadata": {
    "colab": {
      "provenance": [],
      "authorship_tag": "ABX9TyPj+JvN9onijpHEc5GetmAI",
      "include_colab_link": true
    },
    "kernelspec": {
      "name": "python3",
      "display_name": "Python 3"
    },
    "language_info": {
      "name": "python"
    }
  },
  "cells": [
    {
      "cell_type": "markdown",
      "metadata": {
        "id": "view-in-github",
        "colab_type": "text"
      },
      "source": [
        "<a href=\"https://colab.research.google.com/github/fatihkhrmn/Ders4/blob/master/fitness.ipynb\" target=\"_parent\"><img src=\"https://colab.research.google.com/assets/colab-badge.svg\" alt=\"Open In Colab\"/></a>"
      ]
    },
    {
      "cell_type": "code",
      "source": [
        "# CSV dosyasını yükle\n",
        "file_path = \"fitness.csv\"\n",
        "df = pd.read_csv(file_path)"
      ],
      "metadata": {
        "id": "CdSlNIbMmP3G"
      },
      "execution_count": 35,
      "outputs": []
    },
    {
      "cell_type": "code",
      "source": [
        "#Veri setinin genel istatistikleri:\n",
        "print(df.describe())"
      ],
      "metadata": {
        "colab": {
          "base_uri": "https://localhost:8080/"
        },
        "id": "BpdmvB3mmTSq",
        "outputId": "5ac9ea46-469a-45d5-de55-495092424299"
      },
      "execution_count": 36,
      "outputs": [
        {
          "output_type": "stream",
          "name": "stdout",
          "text": [
            "             Yaş       Kilo         Boy  EgzersizSüresi  \\\n",
            "count  40.000000  40.000000   40.000000        40.00000   \n",
            "mean   28.850000  71.900000  172.725000        54.37500   \n",
            "std     4.022692  11.831726    7.847872        18.19367   \n",
            "min    22.000000  55.000000  160.000000        30.00000   \n",
            "25%    26.000000  60.750000  165.750000        45.00000   \n",
            "50%    28.000000  72.500000  175.000000        52.50000   \n",
            "75%    31.250000  82.250000  179.250000        63.75000   \n",
            "max    40.000000  90.000000  185.000000        90.00000   \n",
            "\n",
            "       HaftadaAntrenmanSayısı  SuTüketimi  KaloriTüketimi  KiloDegisimi  \\\n",
            "count               40.000000   40.000000       40.000000     40.000000   \n",
            "mean                 3.625000    2.750000     2315.000000      0.050000   \n",
            "std                  1.212911    0.839719      393.244232      1.551674   \n",
            "min                  2.000000    2.000000     1800.000000     -3.000000   \n",
            "25%                  3.000000    2.000000     2000.000000     -1.000000   \n",
            "50%                  3.500000    2.500000     2300.000000      0.000000   \n",
            "75%                  4.250000    3.250000     2625.000000      1.000000   \n",
            "max                  6.000000    4.000000     3000.000000      3.000000   \n",
            "\n",
            "       StresDüzeyi  \n",
            "count    40.000000  \n",
            "mean      3.900000  \n",
            "std       1.446481  \n",
            "min       2.000000  \n",
            "25%       3.000000  \n",
            "50%       3.500000  \n",
            "75%       5.000000  \n",
            "max       6.000000  \n"
          ]
        }
      ]
    },
    {
      "cell_type": "code",
      "source": [
        "#KaloriTüketimi ile KiloDegisimi arasındaki ilişkiyi görselleştirme:\n",
        "\n",
        "import seaborn as sns\n",
        "\n",
        "sns.countplot(x='KaloriTüketimi', hue='KiloDegisimi', data=df)\n",
        "plt.show()"
      ],
      "metadata": {
        "colab": {
          "base_uri": "https://localhost:8080/",
          "height": 449
        },
        "id": "qaE2R4b-mYr2",
        "outputId": "cbceb09f-054e-40ac-dfed-127c84d8e20a"
      },
      "execution_count": 37,
      "outputs": [
        {
          "output_type": "display_data",
          "data": {
            "text/plain": [
              "<Figure size 640x480 with 1 Axes>"
            ],
            "image/png": "[encoded data removed]"
          },
          "metadata": {}
        }
      ]
    },
    {
      "cell_type": "code",
      "source": [
        "import pandas as pd\n",
        "from sklearn.model_selection import train_test_split\n",
        "from sklearn.linear_model import LinearRegression\n",
        "from sklearn.metrics import mean_squared_error\n",
        "import numpy as np\n",
        "\n",
        "# Veri setini okuma\n",
        "veri_seti = pd.read_csv('fitness.csv')\n",
        "\n",
        "# Bağımsız değişkenleri (X) ve bağımlı değişkeni (y) belirleme\n",
        "X = veri_seti[['Yaş', 'Kilo', 'Boy', 'EgzersizSüresi', 'HaftadaAntrenmanSayısı', 'SuTüketimi', 'KaloriTüketimi', 'StresDüzeyi']]\n",
        "y = veri_seti['KiloDegisimi']\n",
        "\n",
        "# Veriyi eğitim ve test setlerine bölme\n",
        "X_egitim, X_test, y_egitim, y_test = train_test_split(X, y, test_size=0.2, random_state=42)\n",
        "\n",
        "# Lineer regresyon modelini oluşturma ve eğitme\n",
        "model = LinearRegression()\n",
        "model.fit(X_egitim, y_egitim)\n",
        "\n",
        "# Test seti üzerinde tahmin yapma\n",
        "y_tahmin = model.predict(X_test)\n",
        "\n",
        "# Modelin performansını değerlendirme\n",
        "mse = mean_squared_error(y_test, y_tahmin)\n",
        "print(f'Mean Squared Error: {mse}')\n",
        "\n",
        "# Yeni bir kişi için kilo değişimi tahmini yapma\n",
        "yeni_kisi = np.array([28, 75, 175, 60, 4, 3, 2500, 5]).reshape(1, -1)\n",
        "tahmin = model.predict(yeni_kisi)\n",
        "print(f'Yeni kişinin kilo değişimi tahmini: {tahmin[0]}')\n"
      ],
      "metadata": {
        "colab": {
          "base_uri": "https://localhost:8080/"
        },
        "id": "308733y6i15y",
        "outputId": "4cdfd217-9e47-4618-c8df-57229866a392"
      },
      "execution_count": 38,
      "outputs": [
        {
          "output_type": "stream",
          "name": "stdout",
          "text": [
            "Mean Squared Error: 0.8228640372048933\n",
            "Yeni kişinin kilo değişimi tahmini: -0.46716752101584946\n"
          ]
        },
        {
          "output_type": "stream",
          "name": "stderr",
          "text": [
            "/usr/local/lib/python3.10/dist-packages/sklearn/base.py:439: UserWarning: X does not have valid feature names, but LinearRegression was fitted with feature names\n",
            "  warnings.warn(\n"
          ]
        }
      ]
    }
  ]
}